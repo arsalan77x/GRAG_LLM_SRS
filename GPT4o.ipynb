{
 "cells": [
  {
   "cell_type": "code",
   "execution_count": 1,
   "metadata": {},
   "outputs": [],
   "source": [
    "import tiktoken\n",
    "import os\n",
    "from openai import OpenAI\n",
    "import re\n",
    "import pandas as pd\n",
    "import util\n",
    "import prompt_template\n",
    "import api"
   ]
  },
  {
   "cell_type": "code",
   "execution_count": 2,
   "metadata": {},
   "outputs": [],
   "source": [
    "#Report utils\n",
    "num_of_LLM_calls = 0\n",
    "num_of_comp_violations = 0\n",
    "num_of_part_violations = 0\n",
    "num_of_compliances = 0\n",
    "num_of_self_redundencies = 0\n",
    "num_of_redundencies = 0\n",
    "num_of_self_conflicts = 0\n",
    "num_of_conflicts = 0"
   ]
  },
  {
   "cell_type": "code",
   "execution_count": 3,
   "metadata": {},
   "outputs": [
    {
     "name": "stdout",
     "output_type": "stream",
     "text": [
      "number of tokens in the largest requirement text:  243\n"
     ]
    }
   ],
   "source": [
    "# find the largest requirement in SRS\n",
    "path_FR = \"documents/requirements/FR\"\n",
    "max_token = 0\n",
    "for filename in os.listdir(path_FR):\n",
    "    if filename.endswith('.txt'):\n",
    "        file_path_FR = os.path.join(path_FR, filename)\n",
    "        with open(file_path_FR, 'r', encoding='utf-8') as file:\n",
    "            max_token = max(0, util.count_tokens(file.read(), 'gpt-4o'))\n",
    "print(\"number of tokens in the largest requirement text: \", max_token)"
   ]
  },
  {
   "cell_type": "code",
   "execution_count": 4,
   "metadata": {},
   "outputs": [
    {
     "name": "stdout",
     "output_type": "stream",
     "text": [
      "System prompt 1 token count: 3125\n",
      "System prompt 2 token count: 3125\n",
      "System prompt 3 token count: 3126\n",
      "System prompt 4 token count: 3125\n",
      "System prompt 5 token count: 3126\n",
      "System prompt 6 token count: 3126\n",
      "System prompt 7 token count: 3125\n",
      "System prompt 8 token count: 2575\n"
     ]
    }
   ],
   "source": [
    "# chunk articles based on the largest requirement, and leave some space for user prompt\n",
    "with open(\"input/articles.txt\", 'r', encoding='utf-8') as file:\n",
    "    reference_text = file.read()\n",
    "\n",
    "article_chunks = util.chunk_text(reference_text, max_tokens = 3072 - max_token)\n",
    "system_prompts = []\n",
    "for chunk in article_chunks:\n",
    "    system_prompt = prompt_template.prompt_cross_reference_check(reference_text=chunk, is_prompt_strict=True)\n",
    "    system_prompts.append(system_prompt)\n",
    "\n",
    "for i, prompt in enumerate(system_prompts):\n",
    "    print(f\"System prompt {i+1} token count: {util.count_tokens(prompt, 'gpt-4o')}\")\n",
    "\n",
    "for i, chunk in enumerate(article_chunks):\n",
    "    with open(f\"documents/article_chunks/article_chunk_{i}.txt\", 'w', encoding='utf-8') as f:\n",
    "        f.write(f\"Chunk {i+1}:\\n{chunk}\\n\\n\")"
   ]
  },
  {
   "cell_type": "code",
   "execution_count": 5,
   "metadata": {},
   "outputs": [],
   "source": [
    "# call GPT-4o\n",
    "def call_LLM(user_prompt, system_prompt):\n",
    "    client = OpenAI(api_key=api.API_KEY)\n",
    "    response = client.chat.completions.create(\n",
    "        model=\"gpt-4o-mini-2024-07-18\", \n",
    "        messages=[\n",
    "            {\"role\": \"system\", \"content\": system_prompt},\n",
    "            {\"role\": \"user\", \"content\": user_prompt}\n",
    "        ],\n",
    "        #max_tokens = 4096,  \n",
    "        temperature = 0.2\n",
    "    )\n",
    "    global num_of_LLM_calls\n",
    "    num_of_LLM_calls += 1\n",
    "    return response\n",
    "\n"
   ]
  },
  {
   "cell_type": "code",
   "execution_count": 6,
   "metadata": {},
   "outputs": [],
   "source": [
    "# LLM result will return compliances too. -> extract violations\n",
    "def extract_violations(file_path):\n",
    "    with open(file_path, 'r', encoding='utf-8') as file:\n",
    "        content = file.read()\n",
    "\n",
    "    global num_of_comp_violations\n",
    "    global num_of_part_violations\n",
    "    global num_of_compliances\n",
    "    \n",
    "    violations = []\n",
    "    entries = content.split('\\n\\n') \n",
    "    for entry in entries:\n",
    "        if 'Relationship: Partial Violation' in entry:\n",
    "            violations.append(entry)\n",
    "            num_of_part_violations += 1\n",
    "        if 'Relationship: Complete Violation' in entry:\n",
    "            violations.append(entry)\n",
    "            num_of_comp_violations += 1\n",
    "        if 'Relationship: Compliance' in entry:\n",
    "            num_of_compliances += 1\n",
    "    \n",
    "    return violations"
   ]
  },
  {
   "cell_type": "code",
   "execution_count": 10,
   "metadata": {},
   "outputs": [],
   "source": [
    "# double loop over requirements and articles\n",
    "counter = 1\n",
    "data_list = []\n",
    "for filename in os.listdir(\"documents/requirements/FR\"):\n",
    "    if filename.endswith('.txt') and filename != 'requirements.txt':  \n",
    "        if  counter > 41:\n",
    "            file_path_FR = os.path.join(\"documents/requirements/FR\", filename)\n",
    "            with open(file_path_FR, 'r', encoding='utf-8') as file:\n",
    "                content = f\"{counter}. {file.read()}\\n\"    \n",
    "                compliance_result = \"\"\n",
    "                user_prompt = prompt_template.prompt_user_compliance(content)\n",
    "                for article in os.listdir(\"documents/article_chunks\"):\n",
    "                    file_path_article = os.path.join(\"documents/article_chunks\", article)\n",
    "                    with open(file_path_article, 'r', encoding='utf-8') as article_file:\n",
    "                        system_prompt = prompt_template.prompt_cross_reference_check(article_file.read())\n",
    "                        result = call_LLM(user_prompt, system_prompt)\n",
    "                        compliance_result += result.choices[0].message.content\n",
    "                with open(f\"documents/compliance_result/{counter}_comp_res.txt\", 'w', encoding='utf-8') as compfile:\n",
    "                    compfile.write(compliance_result)\n",
    "                data_list.append(extract_violations(f\"documents/compliance_result/{counter}_comp_res.txt\"))\n",
    "                \n",
    "        counter += 1\n",
    "  \n",
    "                "
   ]
  },
  {
   "cell_type": "code",
   "execution_count": 8,
   "metadata": {},
   "outputs": [
    {
     "data": {
      "text/html": [
       "<div>\n",
       "<style scoped>\n",
       "    .dataframe tbody tr th:only-of-type {\n",
       "        vertical-align: middle;\n",
       "    }\n",
       "\n",
       "    .dataframe tbody tr th {\n",
       "        vertical-align: top;\n",
       "    }\n",
       "\n",
       "    .dataframe thead th {\n",
       "        text-align: right;\n",
       "    }\n",
       "</style>\n",
       "<table border=\"1\" class=\"dataframe\">\n",
       "  <thead>\n",
       "    <tr style=\"text-align: right;\">\n",
       "      <th></th>\n",
       "      <th>ID</th>\n",
       "      <th>Relationship</th>\n",
       "      <th>Content Reference</th>\n",
       "      <th>Reason</th>\n",
       "      <th>Suggested Solution</th>\n",
       "    </tr>\n",
       "  </thead>\n",
       "  <tbody>\n",
       "    <tr>\n",
       "      <th>1</th>\n",
       "      <td>1</td>\n",
       "      <td>Partial Violation</td>\n",
       "      <td>Article 6</td>\n",
       "      <td>While the requirement mentions displaying an a...</td>\n",
       "      <td>Enhance the requirement to include logging of ...</td>\n",
       "    </tr>\n",
       "    <tr>\n",
       "      <th>2</th>\n",
       "      <td>2</td>\n",
       "      <td>Partial Violation</td>\n",
       "      <td>Article 6</td>\n",
       "      <td>The requirement does not explicitly mention th...</td>\n",
       "      <td>Implement secure multi-factor authentication f...</td>\n",
       "    </tr>\n",
       "    <tr>\n",
       "      <th>3</th>\n",
       "      <td>3</td>\n",
       "      <td>Complete Violation</td>\n",
       "      <td>Article 16: Capability to apply restrictions</td>\n",
       "      <td>The requirement does not specify any restricti...</td>\n",
       "      <td>Implement restrictions on order types, trading...</td>\n",
       "    </tr>\n",
       "    <tr>\n",
       "      <th>4</th>\n",
       "      <td>3</td>\n",
       "      <td>Complete Violation</td>\n",
       "      <td>Article 18: Orders received from customers</td>\n",
       "      <td>The requirement lacks a mechanism to reject or...</td>\n",
       "      <td>Introduce a validation process that checks ord...</td>\n",
       "    </tr>\n",
       "    <tr>\n",
       "      <th>5</th>\n",
       "      <td>3</td>\n",
       "      <td>Partial Violation</td>\n",
       "      <td>Article 6: Secure multi-factor authentication</td>\n",
       "      <td>While the requirement mentions that the user m...</td>\n",
       "      <td>Ensure that the login process includes secure ...</td>\n",
       "    </tr>\n",
       "    <tr>\n",
       "      <th>6</th>\n",
       "      <td>3</td>\n",
       "      <td>Partial Violation</td>\n",
       "      <td>Article 20: Record and maintain all activities</td>\n",
       "      <td>The requirement states that each online purcha...</td>\n",
       "      <td>Implement a comprehensive logging mechanism to...</td>\n",
       "    </tr>\n",
       "    <tr>\n",
       "      <th>7</th>\n",
       "      <td>4</td>\n",
       "      <td>Complete Violation</td>\n",
       "      <td>Article 16: Capability to apply restrictions</td>\n",
       "      <td>The requirement does not mention any restricti...</td>\n",
       "      <td>Implement restrictions on the types of orders ...</td>\n",
       "    </tr>\n",
       "    <tr>\n",
       "      <th>8</th>\n",
       "      <td>4</td>\n",
       "      <td>Complete Violation</td>\n",
       "      <td>Article 18: Orders received from customers</td>\n",
       "      <td>The requirement states that the system checks ...</td>\n",
       "      <td>Ensure that the system sends a notification to...</td>\n",
       "    </tr>\n",
       "    <tr>\n",
       "      <th>9</th>\n",
       "      <td>4</td>\n",
       "      <td>Partial Violation</td>\n",
       "      <td>Article 6: Secure multi-factor authentication</td>\n",
       "      <td>The requirement mentions that the user must lo...</td>\n",
       "      <td>Incorporate secure multi-factor authentication...</td>\n",
       "    </tr>\n",
       "    <tr>\n",
       "      <th>10</th>\n",
       "      <td>4</td>\n",
       "      <td>Partial Violation</td>\n",
       "      <td>Article 20: Record and maintain all activities</td>\n",
       "      <td>The requirement states that the system automat...</td>\n",
       "      <td>Ensure that the system maintains comprehensive...</td>\n",
       "    </tr>\n",
       "  </tbody>\n",
       "</table>\n",
       "</div>"
      ],
      "text/plain": [
       "    ID        Relationship                               Content Reference  \\\n",
       "1    1   Partial Violation                                       Article 6   \n",
       "2    2   Partial Violation                                       Article 6   \n",
       "3    3  Complete Violation    Article 16: Capability to apply restrictions   \n",
       "4    3  Complete Violation      Article 18: Orders received from customers   \n",
       "5    3   Partial Violation   Article 6: Secure multi-factor authentication   \n",
       "6    3   Partial Violation  Article 20: Record and maintain all activities   \n",
       "7    4  Complete Violation    Article 16: Capability to apply restrictions   \n",
       "8    4  Complete Violation      Article 18: Orders received from customers   \n",
       "9    4   Partial Violation   Article 6: Secure multi-factor authentication   \n",
       "10   4   Partial Violation  Article 20: Record and maintain all activities   \n",
       "\n",
       "                                               Reason  \\\n",
       "1   While the requirement mentions displaying an a...   \n",
       "2   The requirement does not explicitly mention th...   \n",
       "3   The requirement does not specify any restricti...   \n",
       "4   The requirement lacks a mechanism to reject or...   \n",
       "5   While the requirement mentions that the user m...   \n",
       "6   The requirement states that each online purcha...   \n",
       "7   The requirement does not mention any restricti...   \n",
       "8   The requirement states that the system checks ...   \n",
       "9   The requirement mentions that the user must lo...   \n",
       "10  The requirement states that the system automat...   \n",
       "\n",
       "                                   Suggested Solution  \n",
       "1   Enhance the requirement to include logging of ...  \n",
       "2   Implement secure multi-factor authentication f...  \n",
       "3   Implement restrictions on order types, trading...  \n",
       "4   Introduce a validation process that checks ord...  \n",
       "5   Ensure that the login process includes secure ...  \n",
       "6   Implement a comprehensive logging mechanism to...  \n",
       "7   Implement restrictions on the types of orders ...  \n",
       "8   Ensure that the system sends a notification to...  \n",
       "9   Incorporate secure multi-factor authentication...  \n",
       "10  Ensure that the system maintains comprehensive...  "
      ]
     },
     "execution_count": 8,
     "metadata": {},
     "output_type": "execute_result"
    }
   ],
   "source": [
    "# store extracted violations in a data frame for better analysis\n",
    "\n",
    "data = []\n",
    "def parse_item(item, counter):\n",
    "    id_value = counter\n",
    "\n",
    "    relationship_match = re.search(r'Relationship: ([^\\n]+)', item)\n",
    "    if relationship_match:\n",
    "        relationship = relationship_match.group(1).strip()\n",
    "    else:\n",
    "        relationship = None\n",
    "\n",
    "    content_reference_match = re.search(r'Content Reference: ([^\\n]+)', item)\n",
    "    if content_reference_match:\n",
    "        content_reference = content_reference_match.group(1).strip()\n",
    "    else:\n",
    "        content_reference = None\n",
    "\n",
    "    reason_match = re.search(r'Reason: ([^\\n]+)', item)\n",
    "    if reason_match:\n",
    "        reason = reason_match.group(1).strip()\n",
    "    else:\n",
    "        reason = None\n",
    "\n",
    "    suggested_solution_match = re.search(r'Suggested Solution: ([^\\n]+)', item)\n",
    "    if suggested_solution_match:\n",
    "        suggested_solution = suggested_solution_match.group(1).strip()\n",
    "    else:\n",
    "        suggested_solution = None\n",
    "\n",
    "    return {\n",
    "        'ID': id_value,\n",
    "        'Relationship': relationship,\n",
    "        'Content Reference': content_reference,\n",
    "        'Reason': reason,\n",
    "        'Suggested Solution': suggested_solution\n",
    "    }\n",
    "\n",
    "counter = 1\n",
    "for sublist in data_list:\n",
    "    for item in sublist:\n",
    "        data.append(parse_item(item, counter))\n",
    "    counter += 1\n",
    "\n",
    "df = pd.DataFrame(data, index=range(1, len(data) + 1))\n",
    "df.head(10)\n"
   ]
  },
  {
   "cell_type": "code",
   "execution_count": 9,
   "metadata": {},
   "outputs": [
    {
     "name": "stdout",
     "output_type": "stream",
     "text": [
      "Deleted file: documents/suggested_solutions/1_sol.txt\n"
     ]
    }
   ],
   "source": [
    "# Extract suggested solutions for consistency check\n",
    "util.delete_all_files_in_directory(\"documents/suggested_solutions/\")\n",
    "batch_size = 10\n",
    "results = \"\"\n",
    "solutions_size = 0\n",
    "counter = 1\n",
    "system_prompt_size = util.count_tokens(prompt_template.prompt_consistency(\"\"), \"gpt-4o\")\n",
    "\n",
    "for start in range(0, len(df), batch_size):\n",
    "    end = start + batch_size\n",
    "    batch = df[start:end]\n",
    "    batch_str = \"\\n\".join(f\"{row.name}. {row['Suggested Solution']}\" for index, row in batch.iterrows())\n",
    "    solutions_size += util.count_tokens(batch_str, \"gpt-4o\")\n",
    "    if solutions_size >= 2048 - system_prompt_size:\n",
    "        with open(f\"documents/suggested_solutions/{counter}_sol.txt\", 'w', encoding='utf-8') as file:\n",
    "            file.write(results)\n",
    "        results = \"\"\n",
    "        solutions_size = 0\n",
    "        counter += 1\n",
    "    results += batch_str + \"\\n\"\n",
    "    solutions_size += util.count_tokens(batch_str, \"gpt-4o\")\n",
    "\n",
    "with open(f\"documents/suggested_solutions/{counter}_sol.txt\", 'w', encoding='utf-8') as file:\n",
    "    file.write(results)"
   ]
  },
  {
   "cell_type": "code",
   "execution_count": 28,
   "metadata": {},
   "outputs": [],
   "source": [
    "# find redundant or contradicting solutions. (self consistency check)\n",
    "directory = 'documents/suggested_solutions/'\n",
    "text_files = [f for f in os.listdir(directory) if f.endswith('.txt')]\n",
    "result = \"\"\n",
    "if len(text_files) > 1:\n",
    "    for i in range(len(text_files)):\n",
    "        for j in range(i + 1, len(text_files)):\n",
    "            file1_path = os.path.join(directory, text_files[i])\n",
    "            file2_path = os.path.join(directory, text_files[j])\n",
    "            with open(file1_path, 'r', encoding='utf-8') as file1:\n",
    "                file1_contents = file1.read()\n",
    "\n",
    "            with open(file2_path, 'r', encoding='utf-8') as file2:\n",
    "                file2_contents = file2.read()\n",
    "            combined_contents = file1_contents + \"\\n\" + file2_contents\n",
    "            response = call_LLM(prompt_template.prompt_user_self_consistency(combined_contents), system_prompt = prompt_template.prompt_consistency(\"\"))\n",
    "            result += response.choices[0].message.content\n",
    "else:\n",
    "    file_path = os.path.join(directory, \"1_sol.txt\")\n",
    "    with open(file_path, 'r', encoding='utf-8') as file:\n",
    "        file_contents = file.read()\n",
    "        response = call_LLM(prompt_template.prompt_user_self_consistency(file_contents), system_prompt = prompt_template.prompt_consistency(\"\"))\n",
    "        result = response.choices[0].message.content\n",
    "\n",
    "with open(f\"documents/consistency_result/self_con_res.txt\", 'w', encoding='utf-8') as confile:\n",
    "    confile.write(result)"
   ]
  },
  {
   "cell_type": "code",
   "execution_count": 30,
   "metadata": {},
   "outputs": [
    {
     "data": {
      "text/html": [
       "<div>\n",
       "<style scoped>\n",
       "    .dataframe tbody tr th:only-of-type {\n",
       "        vertical-align: middle;\n",
       "    }\n",
       "\n",
       "    .dataframe tbody tr th {\n",
       "        vertical-align: top;\n",
       "    }\n",
       "\n",
       "    .dataframe thead th {\n",
       "        text-align: right;\n",
       "    }\n",
       "</style>\n",
       "<table border=\"1\" class=\"dataframe\">\n",
       "  <thead>\n",
       "    <tr style=\"text-align: right;\">\n",
       "      <th></th>\n",
       "      <th>Similarity Number</th>\n",
       "      <th>User Input (Suggested Solution)</th>\n",
       "      <th>Content From</th>\n",
       "      <th>Similarity Score</th>\n",
       "    </tr>\n",
       "  </thead>\n",
       "  <tbody>\n",
       "    <tr>\n",
       "      <th>0</th>\n",
       "      <td>1</td>\n",
       "      <td>2</td>\n",
       "      <td>11</td>\n",
       "      <td>70</td>\n",
       "    </tr>\n",
       "    <tr>\n",
       "      <th>1</th>\n",
       "      <td>2</td>\n",
       "      <td>5</td>\n",
       "      <td>9</td>\n",
       "      <td>100</td>\n",
       "    </tr>\n",
       "    <tr>\n",
       "      <th>2</th>\n",
       "      <td>3</td>\n",
       "      <td>3</td>\n",
       "      <td>7</td>\n",
       "      <td>60</td>\n",
       "    </tr>\n",
       "    <tr>\n",
       "      <th>3</th>\n",
       "      <td>4</td>\n",
       "      <td>4</td>\n",
       "      <td>12</td>\n",
       "      <td>65</td>\n",
       "    </tr>\n",
       "    <tr>\n",
       "      <th>4</th>\n",
       "      <td>5</td>\n",
       "      <td>6</td>\n",
       "      <td>10</td>\n",
       "      <td>55</td>\n",
       "    </tr>\n",
       "    <tr>\n",
       "      <th>5</th>\n",
       "      <td>6</td>\n",
       "      <td>8</td>\n",
       "      <td>13</td>\n",
       "      <td>50</td>\n",
       "    </tr>\n",
       "  </tbody>\n",
       "</table>\n",
       "</div>"
      ],
      "text/plain": [
       "   Similarity Number  User Input (Suggested Solution)  Content From  \\\n",
       "0                  1                                2            11   \n",
       "1                  2                                5             9   \n",
       "2                  3                                3             7   \n",
       "3                  4                                4            12   \n",
       "4                  5                                6            10   \n",
       "5                  6                                8            13   \n",
       "\n",
       "   Similarity Score  \n",
       "0                70  \n",
       "1               100  \n",
       "2                60  \n",
       "3                65  \n",
       "4                55  \n",
       "5                50  "
      ]
     },
     "execution_count": 30,
     "metadata": {},
     "output_type": "execute_result"
    }
   ],
   "source": [
    "# df for self consistencies\n",
    "user_input = []\n",
    "content_from = []\n",
    "similarity_score = []\n",
    "similarity_number = []\n",
    "\n",
    "with open('documents/consistency_result/self_con_res.txt', 'r') as file:\n",
    "    lines = file.readlines()\n",
    "\n",
    "for line in lines:\n",
    "    if \"Similarity #\" in line:\n",
    "        sim_number = int(re.search(r'\\d+', line).group())\n",
    "        similarity_number.append(sim_number)\n",
    "    elif \"(suggested solution):\" in line:\n",
    "        user_input.append(int(re.search(r'\\d+', line).group()))\n",
    "    elif \"Content from :\" in line:\n",
    "        content_from.append(int(re.search(r'\\d+', line).group()))\n",
    "    elif \"Similarity Score:\" in line:\n",
    "        similarity_score.append(int(re.search(r'\\d+', line).group()))\n",
    "\n",
    "df = pd.DataFrame({\n",
    "    'Similarity Number': similarity_number,\n",
    "    'User Input (Suggested Solution)': user_input,\n",
    "    'Content From': content_from,\n",
    "    'Similarity Score': similarity_score\n",
    "})\n",
    "\n",
    "\n",
    "df.head(10)\n"
   ]
  },
  {
   "cell_type": "code",
   "execution_count": 33,
   "metadata": {},
   "outputs": [],
   "source": [
    "# remove redundant suggestions. conflicts are manually handled.\n",
    "content_from_list = df[df['Similarity Score'] >= 70]['Content From'].tolist()\n",
    "num_of_self_conflicts = len(df[df['Similarity Score'] == 0]['Content From'].tolist())\n",
    "num_of_self_redundencies = len(content_from_list)\n",
    "\n",
    "number_of_sol_files = len([f for f in os.listdir(\"documents/suggested_solutions\") if f.endswith('.txt')])\n",
    "\n",
    "\n",
    "for i in range(1,number_of_sol_files + 1):\n",
    "    with open(f'documents/suggested_solutions/{i}_sol.txt', 'r') as file:\n",
    "        lines = file.readlines()\n",
    "\n",
    "        filtered_lines = [line for index, line in enumerate(lines, start=1) if index not in content_from_list]\n",
    "        with open(f'documents/suggested_solutions/update/{i}_updated_sol.txt', 'w') as file:\n",
    "            file.writelines(filtered_lines)\n"
   ]
  },
  {
   "cell_type": "code",
   "execution_count": null,
   "metadata": {},
   "outputs": [],
   "source": [
    "# consistency check between remaining solutions and existing requirement document.\n",
    "\n",
    "req_directory = 'documents/requirements/'\n",
    "sol_directory = 'documents/suggested_solutions/update'\n",
    "\n",
    "sol_files = [f for f in os.listdir(sol_directory) if f.endswith('.txt')]\n",
    "req_files = [f for f in os.listdir(req_directory) if f.endswith('.txt')]\n",
    "result = \"\"\n",
    "\n",
    "for i in range(len(sol_files)):\n",
    "    for j in range(len(req_files)):\n",
    "        sol_path = os.path.join(sol_directory, sol_files[i])\n",
    "        req_path = os.path.join(req_directory, req_files[j])\n",
    "        with open(sol_path, 'r', encoding='utf-8') as file1:\n",
    "            sol_contents = file1.read()\n",
    "        with open(req_path, 'r', encoding='utf-8') as file2:\n",
    "            req_contents = file2.read()\n",
    "        response = call_LLM(prompt_template.prompt_user_consistency(sol_contents), system_prompt = prompt_template.prompt_consistency(req_contents))\n",
    "        result += response.choices[0].message.content\n",
    "\n",
    "with open(f\"documents/consistency_result/con_res.txt\", 'w', encoding='utf-8') as confile:\n",
    "    confile.write(result)\n"
   ]
  },
  {
   "cell_type": "code",
   "execution_count": null,
   "metadata": {},
   "outputs": [],
   "source": [
    "# df for consistencies\n",
    "user_input = []\n",
    "content_from = []\n",
    "similarity_score = []\n",
    "similarity_number = []\n",
    "\n",
    "with open('documents/consistency_result/con_res.txt', 'r') as file:\n",
    "    lines = file.readlines()\n",
    "\n",
    "for line in lines:\n",
    "    if \"Similarity #\" in line:\n",
    "        sim_number = int(re.search(r'\\d+', line).group())\n",
    "        similarity_number.append(sim_number)\n",
    "    elif \"(suggested solution):\" in line:\n",
    "        user_input.append(int(re.search(r'\\d+', line).group()))\n",
    "    elif \"Content from :\" in line:\n",
    "        content_from.append(int(re.search(r'\\d+', line).group()))\n",
    "    elif \"Similarity Score:\" in line:\n",
    "        similarity_score.append(int(re.search(r'\\d+', line).group()))\n",
    "\n",
    "df = pd.DataFrame({\n",
    "    'Similarity Number': similarity_number,\n",
    "    'User Input (Suggested Solution)': user_input,\n",
    "    'Content From': content_from,\n",
    "    'Similarity Score': similarity_score\n",
    "})\n",
    "\n",
    "content_from_list = df[df['Similarity Score'] >= 70]['Content From'].tolist()\n",
    "num_of_conflicts = len(df[df['Similarity Score'] == 0]['Content From'].tolist()) - num_of_self_conflicts\n",
    "num_of_redundencies = len(content_from_list) - num_of_self_redundencies\n",
    "\n",
    "df.head(10)\n"
   ]
  },
  {
   "cell_type": "code",
   "execution_count": 42,
   "metadata": {},
   "outputs": [
    {
     "data": {
      "application/vnd.plotly.v1+json": {
       "config": {
        "plotlyServerURL": "https://plot.ly"
       },
       "data": [
        {
         "marker": {
          "color": "rgba(58, 71, 80, 0.6)"
         },
         "name": "Count",
         "type": "bar",
         "x": [
          "Complete Violations",
          "Partial Violations",
          "Compliances"
         ],
         "xaxis": "x",
         "y": [
          50,
          30,
          120
         ],
         "yaxis": "y"
        },
        {
         "domain": {
          "x": [
           0.55,
           1
          ],
          "y": [
           0.625,
           1
          ]
         },
         "hole": 0.3,
         "labels": [
          "Self Redundancy",
          "Self Conflicts",
          "Redundancy",
          "Conflicts"
         ],
         "marker": {
          "colors": [
           "#FFA07A",
           "#98FB98",
           "#87CEFA",
           "#DDA0DD"
          ]
         },
         "textinfo": "label+percent",
         "type": "pie",
         "values": [
          15,
          8,
          12,
          10
         ]
        },
        {
         "marker": {
          "color": "rgba(246, 78, 139, 0.6)"
         },
         "name": "Accuracy",
         "type": "bar",
         "x": [
          "Complete Violations",
          "Partial Violations",
          "Compliances",
          "Self Redundancy",
          "Self Conflicts",
          "Redundancy",
          "Conflicts"
         ],
         "xaxis": "x2",
         "y": [
          95,
          92,
          98,
          90,
          88,
          93,
          91
         ],
         "yaxis": "y2"
        }
       ],
       "layout": {
        "annotations": [
         {
          "font": {
           "size": 16
          },
          "showarrow": false,
          "text": "Violations and Compliances",
          "x": 0.225,
          "xanchor": "center",
          "xref": "paper",
          "y": 1,
          "yanchor": "bottom",
          "yref": "paper"
         },
         {
          "font": {
           "size": 16
          },
          "showarrow": false,
          "text": "Consistency Issues",
          "x": 0.775,
          "xanchor": "center",
          "xref": "paper",
          "y": 1,
          "yanchor": "bottom",
          "yref": "paper"
         },
         {
          "font": {
           "size": 16
          },
          "showarrow": false,
          "text": "Accuracy by Category",
          "x": 0.5,
          "xanchor": "center",
          "xref": "paper",
          "y": 0.375,
          "yanchor": "bottom",
          "yref": "paper"
         },
         {
          "font": {
           "size": 14
          },
          "showarrow": false,
          "text": "Total LLM Calls: 500",
          "x": 0.5,
          "xref": "paper",
          "y": -0.15,
          "yref": "paper"
         }
        ],
        "height": 800,
        "showlegend": false,
        "template": {
         "data": {
          "bar": [
           {
            "error_x": {
             "color": "#2a3f5f"
            },
            "error_y": {
             "color": "#2a3f5f"
            },
            "marker": {
             "line": {
              "color": "white",
              "width": 0.5
             },
             "pattern": {
              "fillmode": "overlay",
              "size": 10,
              "solidity": 0.2
             }
            },
            "type": "bar"
           }
          ],
          "barpolar": [
           {
            "marker": {
             "line": {
              "color": "white",
              "width": 0.5
             },
             "pattern": {
              "fillmode": "overlay",
              "size": 10,
              "solidity": 0.2
             }
            },
            "type": "barpolar"
           }
          ],
          "carpet": [
           {
            "aaxis": {
             "endlinecolor": "#2a3f5f",
             "gridcolor": "#C8D4E3",
             "linecolor": "#C8D4E3",
             "minorgridcolor": "#C8D4E3",
             "startlinecolor": "#2a3f5f"
            },
            "baxis": {
             "endlinecolor": "#2a3f5f",
             "gridcolor": "#C8D4E3",
             "linecolor": "#C8D4E3",
             "minorgridcolor": "#C8D4E3",
             "startlinecolor": "#2a3f5f"
            },
            "type": "carpet"
           }
          ],
          "choropleth": [
           {
            "colorbar": {
             "outlinewidth": 0,
             "ticks": ""
            },
            "type": "choropleth"
           }
          ],
          "contour": [
           {
            "colorbar": {
             "outlinewidth": 0,
             "ticks": ""
            },
            "colorscale": [
             [
              0,
              "#0d0887"
             ],
             [
              0.1111111111111111,
              "#46039f"
             ],
             [
              0.2222222222222222,
              "#7201a8"
             ],
             [
              0.3333333333333333,
              "#9c179e"
             ],
             [
              0.4444444444444444,
              "#bd3786"
             ],
             [
              0.5555555555555556,
              "#d8576b"
             ],
             [
              0.6666666666666666,
              "#ed7953"
             ],
             [
              0.7777777777777778,
              "#fb9f3a"
             ],
             [
              0.8888888888888888,
              "#fdca26"
             ],
             [
              1,
              "#f0f921"
             ]
            ],
            "type": "contour"
           }
          ],
          "contourcarpet": [
           {
            "colorbar": {
             "outlinewidth": 0,
             "ticks": ""
            },
            "type": "contourcarpet"
           }
          ],
          "heatmap": [
           {
            "colorbar": {
             "outlinewidth": 0,
             "ticks": ""
            },
            "colorscale": [
             [
              0,
              "#0d0887"
             ],
             [
              0.1111111111111111,
              "#46039f"
             ],
             [
              0.2222222222222222,
              "#7201a8"
             ],
             [
              0.3333333333333333,
              "#9c179e"
             ],
             [
              0.4444444444444444,
              "#bd3786"
             ],
             [
              0.5555555555555556,
              "#d8576b"
             ],
             [
              0.6666666666666666,
              "#ed7953"
             ],
             [
              0.7777777777777778,
              "#fb9f3a"
             ],
             [
              0.8888888888888888,
              "#fdca26"
             ],
             [
              1,
              "#f0f921"
             ]
            ],
            "type": "heatmap"
           }
          ],
          "heatmapgl": [
           {
            "colorbar": {
             "outlinewidth": 0,
             "ticks": ""
            },
            "colorscale": [
             [
              0,
              "#0d0887"
             ],
             [
              0.1111111111111111,
              "#46039f"
             ],
             [
              0.2222222222222222,
              "#7201a8"
             ],
             [
              0.3333333333333333,
              "#9c179e"
             ],
             [
              0.4444444444444444,
              "#bd3786"
             ],
             [
              0.5555555555555556,
              "#d8576b"
             ],
             [
              0.6666666666666666,
              "#ed7953"
             ],
             [
              0.7777777777777778,
              "#fb9f3a"
             ],
             [
              0.8888888888888888,
              "#fdca26"
             ],
             [
              1,
              "#f0f921"
             ]
            ],
            "type": "heatmapgl"
           }
          ],
          "histogram": [
           {
            "marker": {
             "pattern": {
              "fillmode": "overlay",
              "size": 10,
              "solidity": 0.2
             }
            },
            "type": "histogram"
           }
          ],
          "histogram2d": [
           {
            "colorbar": {
             "outlinewidth": 0,
             "ticks": ""
            },
            "colorscale": [
             [
              0,
              "#0d0887"
             ],
             [
              0.1111111111111111,
              "#46039f"
             ],
             [
              0.2222222222222222,
              "#7201a8"
             ],
             [
              0.3333333333333333,
              "#9c179e"
             ],
             [
              0.4444444444444444,
              "#bd3786"
             ],
             [
              0.5555555555555556,
              "#d8576b"
             ],
             [
              0.6666666666666666,
              "#ed7953"
             ],
             [
              0.7777777777777778,
              "#fb9f3a"
             ],
             [
              0.8888888888888888,
              "#fdca26"
             ],
             [
              1,
              "#f0f921"
             ]
            ],
            "type": "histogram2d"
           }
          ],
          "histogram2dcontour": [
           {
            "colorbar": {
             "outlinewidth": 0,
             "ticks": ""
            },
            "colorscale": [
             [
              0,
              "#0d0887"
             ],
             [
              0.1111111111111111,
              "#46039f"
             ],
             [
              0.2222222222222222,
              "#7201a8"
             ],
             [
              0.3333333333333333,
              "#9c179e"
             ],
             [
              0.4444444444444444,
              "#bd3786"
             ],
             [
              0.5555555555555556,
              "#d8576b"
             ],
             [
              0.6666666666666666,
              "#ed7953"
             ],
             [
              0.7777777777777778,
              "#fb9f3a"
             ],
             [
              0.8888888888888888,
              "#fdca26"
             ],
             [
              1,
              "#f0f921"
             ]
            ],
            "type": "histogram2dcontour"
           }
          ],
          "mesh3d": [
           {
            "colorbar": {
             "outlinewidth": 0,
             "ticks": ""
            },
            "type": "mesh3d"
           }
          ],
          "parcoords": [
           {
            "line": {
             "colorbar": {
              "outlinewidth": 0,
              "ticks": ""
             }
            },
            "type": "parcoords"
           }
          ],
          "pie": [
           {
            "automargin": true,
            "type": "pie"
           }
          ],
          "scatter": [
           {
            "fillpattern": {
             "fillmode": "overlay",
             "size": 10,
             "solidity": 0.2
            },
            "type": "scatter"
           }
          ],
          "scatter3d": [
           {
            "line": {
             "colorbar": {
              "outlinewidth": 0,
              "ticks": ""
             }
            },
            "marker": {
             "colorbar": {
              "outlinewidth": 0,
              "ticks": ""
             }
            },
            "type": "scatter3d"
           }
          ],
          "scattercarpet": [
           {
            "marker": {
             "colorbar": {
              "outlinewidth": 0,
              "ticks": ""
             }
            },
            "type": "scattercarpet"
           }
          ],
          "scattergeo": [
           {
            "marker": {
             "colorbar": {
              "outlinewidth": 0,
              "ticks": ""
             }
            },
            "type": "scattergeo"
           }
          ],
          "scattergl": [
           {
            "marker": {
             "colorbar": {
              "outlinewidth": 0,
              "ticks": ""
             }
            },
            "type": "scattergl"
           }
          ],
          "scattermapbox": [
           {
            "marker": {
             "colorbar": {
              "outlinewidth": 0,
              "ticks": ""
             }
            },
            "type": "scattermapbox"
           }
          ],
          "scatterpolar": [
           {
            "marker": {
             "colorbar": {
              "outlinewidth": 0,
              "ticks": ""
             }
            },
            "type": "scatterpolar"
           }
          ],
          "scatterpolargl": [
           {
            "marker": {
             "colorbar": {
              "outlinewidth": 0,
              "ticks": ""
             }
            },
            "type": "scatterpolargl"
           }
          ],
          "scatterternary": [
           {
            "marker": {
             "colorbar": {
              "outlinewidth": 0,
              "ticks": ""
             }
            },
            "type": "scatterternary"
           }
          ],
          "surface": [
           {
            "colorbar": {
             "outlinewidth": 0,
             "ticks": ""
            },
            "colorscale": [
             [
              0,
              "#0d0887"
             ],
             [
              0.1111111111111111,
              "#46039f"
             ],
             [
              0.2222222222222222,
              "#7201a8"
             ],
             [
              0.3333333333333333,
              "#9c179e"
             ],
             [
              0.4444444444444444,
              "#bd3786"
             ],
             [
              0.5555555555555556,
              "#d8576b"
             ],
             [
              0.6666666666666666,
              "#ed7953"
             ],
             [
              0.7777777777777778,
              "#fb9f3a"
             ],
             [
              0.8888888888888888,
              "#fdca26"
             ],
             [
              1,
              "#f0f921"
             ]
            ],
            "type": "surface"
           }
          ],
          "table": [
           {
            "cells": {
             "fill": {
              "color": "#EBF0F8"
             },
             "line": {
              "color": "white"
             }
            },
            "header": {
             "fill": {
              "color": "#C8D4E3"
             },
             "line": {
              "color": "white"
             }
            },
            "type": "table"
           }
          ]
         },
         "layout": {
          "annotationdefaults": {
           "arrowcolor": "#2a3f5f",
           "arrowhead": 0,
           "arrowwidth": 1
          },
          "autotypenumbers": "strict",
          "coloraxis": {
           "colorbar": {
            "outlinewidth": 0,
            "ticks": ""
           }
          },
          "colorscale": {
           "diverging": [
            [
             0,
             "#8e0152"
            ],
            [
             0.1,
             "#c51b7d"
            ],
            [
             0.2,
             "#de77ae"
            ],
            [
             0.3,
             "#f1b6da"
            ],
            [
             0.4,
             "#fde0ef"
            ],
            [
             0.5,
             "#f7f7f7"
            ],
            [
             0.6,
             "#e6f5d0"
            ],
            [
             0.7,
             "#b8e186"
            ],
            [
             0.8,
             "#7fbc41"
            ],
            [
             0.9,
             "#4d9221"
            ],
            [
             1,
             "#276419"
            ]
           ],
           "sequential": [
            [
             0,
             "#0d0887"
            ],
            [
             0.1111111111111111,
             "#46039f"
            ],
            [
             0.2222222222222222,
             "#7201a8"
            ],
            [
             0.3333333333333333,
             "#9c179e"
            ],
            [
             0.4444444444444444,
             "#bd3786"
            ],
            [
             0.5555555555555556,
             "#d8576b"
            ],
            [
             0.6666666666666666,
             "#ed7953"
            ],
            [
             0.7777777777777778,
             "#fb9f3a"
            ],
            [
             0.8888888888888888,
             "#fdca26"
            ],
            [
             1,
             "#f0f921"
            ]
           ],
           "sequentialminus": [
            [
             0,
             "#0d0887"
            ],
            [
             0.1111111111111111,
             "#46039f"
            ],
            [
             0.2222222222222222,
             "#7201a8"
            ],
            [
             0.3333333333333333,
             "#9c179e"
            ],
            [
             0.4444444444444444,
             "#bd3786"
            ],
            [
             0.5555555555555556,
             "#d8576b"
            ],
            [
             0.6666666666666666,
             "#ed7953"
            ],
            [
             0.7777777777777778,
             "#fb9f3a"
            ],
            [
             0.8888888888888888,
             "#fdca26"
            ],
            [
             1,
             "#f0f921"
            ]
           ]
          },
          "colorway": [
           "#636efa",
           "#EF553B",
           "#00cc96",
           "#ab63fa",
           "#FFA15A",
           "#19d3f3",
           "#FF6692",
           "#B6E880",
           "#FF97FF",
           "#FECB52"
          ],
          "font": {
           "color": "#2a3f5f"
          },
          "geo": {
           "bgcolor": "white",
           "lakecolor": "white",
           "landcolor": "white",
           "showlakes": true,
           "showland": true,
           "subunitcolor": "#C8D4E3"
          },
          "hoverlabel": {
           "align": "left"
          },
          "hovermode": "closest",
          "mapbox": {
           "style": "light"
          },
          "paper_bgcolor": "white",
          "plot_bgcolor": "white",
          "polar": {
           "angularaxis": {
            "gridcolor": "#EBF0F8",
            "linecolor": "#EBF0F8",
            "ticks": ""
           },
           "bgcolor": "white",
           "radialaxis": {
            "gridcolor": "#EBF0F8",
            "linecolor": "#EBF0F8",
            "ticks": ""
           }
          },
          "scene": {
           "xaxis": {
            "backgroundcolor": "white",
            "gridcolor": "#DFE8F3",
            "gridwidth": 2,
            "linecolor": "#EBF0F8",
            "showbackground": true,
            "ticks": "",
            "zerolinecolor": "#EBF0F8"
           },
           "yaxis": {
            "backgroundcolor": "white",
            "gridcolor": "#DFE8F3",
            "gridwidth": 2,
            "linecolor": "#EBF0F8",
            "showbackground": true,
            "ticks": "",
            "zerolinecolor": "#EBF0F8"
           },
           "zaxis": {
            "backgroundcolor": "white",
            "gridcolor": "#DFE8F3",
            "gridwidth": 2,
            "linecolor": "#EBF0F8",
            "showbackground": true,
            "ticks": "",
            "zerolinecolor": "#EBF0F8"
           }
          },
          "shapedefaults": {
           "line": {
            "color": "#2a3f5f"
           }
          },
          "ternary": {
           "aaxis": {
            "gridcolor": "#DFE8F3",
            "linecolor": "#A2B1C6",
            "ticks": ""
           },
           "baxis": {
            "gridcolor": "#DFE8F3",
            "linecolor": "#A2B1C6",
            "ticks": ""
           },
           "bgcolor": "white",
           "caxis": {
            "gridcolor": "#DFE8F3",
            "linecolor": "#A2B1C6",
            "ticks": ""
           }
          },
          "title": {
           "x": 0.05
          },
          "xaxis": {
           "automargin": true,
           "gridcolor": "#EBF0F8",
           "linecolor": "#EBF0F8",
           "ticks": "",
           "title": {
            "standoff": 15
           },
           "zerolinecolor": "#EBF0F8",
           "zerolinewidth": 2
          },
          "yaxis": {
           "automargin": true,
           "gridcolor": "#EBF0F8",
           "linecolor": "#EBF0F8",
           "ticks": "",
           "title": {
            "standoff": 15
           },
           "zerolinecolor": "#EBF0F8",
           "zerolinewidth": 2
          }
         }
        },
        "title": {
         "text": "Analysis Dashboard"
        },
        "width": 1000,
        "xaxis": {
         "anchor": "y",
         "domain": [
          0,
          0.45
         ]
        },
        "xaxis2": {
         "anchor": "y2",
         "domain": [
          0,
          1
         ]
        },
        "yaxis": {
         "anchor": "x",
         "domain": [
          0.625,
          1
         ]
        },
        "yaxis2": {
         "anchor": "x2",
         "domain": [
          0,
          0.375
         ]
        }
       }
      }
     },
     "metadata": {},
     "output_type": "display_data"
    }
   ],
   "source": [
    "import plotly.graph_objects as go\n",
    "from plotly.subplots import make_subplots\n",
    "import pandas as pd\n",
    "\n",
    "violations_data = {'Category': ['Complete Violations', 'Partial Violations', 'Compliances'],\n",
    "                   'Count': [50, 30, 120]}\n",
    "consistency_data = {'Category': ['Self Redundancy', 'Self Conflicts', 'Redundancy', 'Conflicts'],\n",
    "                    'Count': [15, 8, 12, 10]}\n",
    "accuracy_data = {'Category': ['Complete Violations', 'Partial Violations', 'Compliances',\n",
    "                              'Self Redundancy', 'Self Conflicts', 'Redundancy', 'Conflicts'],\n",
    "                 'Accuracy': [95, 92, 98, 90, 88, 93, 91]}\n",
    "llm_calls = 500 \n",
    "\n",
    "df_violations = pd.DataFrame(violations_data)\n",
    "df_consistency = pd.DataFrame(consistency_data)\n",
    "df_accuracy = pd.DataFrame(accuracy_data)\n",
    "\n",
    "fig = make_subplots(rows=2, cols=2, \n",
    "                    specs=[[{'type': 'bar'}, {'type': 'pie'}],\n",
    "                           [{'type': 'bar', 'colspan': 2}, None]],\n",
    "                    subplot_titles=('Violations and Compliances', 'Consistency Issues',\n",
    "                                    'Accuracy by Category'))\n",
    "\n",
    "fig.add_trace(go.Bar(x=df_violations['Category'], y=df_violations['Count'],\n",
    "                     marker_color='rgba(58, 71, 80, 0.6)', name='Count'),\n",
    "              row=1, col=1)\n",
    "\n",
    "fig.add_trace(go.Pie(labels=df_consistency['Category'], values=df_consistency['Count'],\n",
    "                     marker=dict(colors=['#FFA07A', '#98FB98', '#87CEFA', '#DDA0DD']),\n",
    "                     textinfo='label+percent', hole=0.3),\n",
    "              row=1, col=2)\n",
    "\n",
    "fig.add_trace(go.Bar(x=df_accuracy['Category'], y=df_accuracy['Accuracy'],\n",
    "                     marker_color='rgba(246, 78, 139, 0.6)', name='Accuracy'),\n",
    "              row=2, col=1)\n",
    "\n",
    "fig.update_layout(height=800, width=1000, title_text=\"Analysis Dashboard\",\n",
    "                  showlegend=False, template=\"plotly_white\")\n",
    "\n",
    "fig.add_annotation(text=f\"Total LLM Calls: {llm_calls}\",\n",
    "                   xref=\"paper\", yref=\"paper\",\n",
    "                   x=0.5, y=-0.15, showarrow=False,\n",
    "                   font=dict(size=14))\n",
    "\n",
    "fig.show()"
   ]
  }
 ],
 "metadata": {
  "kernelspec": {
   "display_name": "env",
   "language": "python",
   "name": "python3"
  },
  "language_info": {
   "codemirror_mode": {
    "name": "ipython",
    "version": 3
   },
   "file_extension": ".py",
   "mimetype": "text/x-python",
   "name": "python",
   "nbconvert_exporter": "python",
   "pygments_lexer": "ipython3",
   "version": "3.12.2"
  }
 },
 "nbformat": 4,
 "nbformat_minor": 2
}
